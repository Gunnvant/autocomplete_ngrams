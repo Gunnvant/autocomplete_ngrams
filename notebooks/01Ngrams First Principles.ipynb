{
 "cells": [
  {
   "cell_type": "markdown",
   "metadata": {},
   "source": [
    "# Agenda\n",
    "Create ngram frequencies using first principles, no backoff or smoothning"
   ]
  },
  {
   "cell_type": "code",
   "execution_count": 1,
   "metadata": {},
   "outputs": [],
   "source": [
    "import os\n",
    "os.chdir(\"../src\")\n",
    "from ngrams import Ngram"
   ]
  },
  {
   "cell_type": "code",
   "execution_count": 2,
   "metadata": {},
   "outputs": [
    {
     "name": "stdout",
     "output_type": "stream",
     "text": [
      "Done writting file bigrams\n"
     ]
    }
   ],
   "source": [
    "ng = Ngram()\n",
    "ng.read_data(\"../data/convo.txt\")\n",
    "ng.ngram_generator(n=2)\n",
    "ng.dump_ngrams(path = \"../data\",file_name='bigrams')"
   ]
  },
  {
   "cell_type": "code",
   "execution_count": 3,
   "metadata": {},
   "outputs": [
    {
     "name": "stdout",
     "output_type": "stream",
     "text": [
      "Done writting file trigrams\n"
     ]
    }
   ],
   "source": [
    "ng = Ngram()\n",
    "ng.read_data(\"../data/convo.txt\")\n",
    "ng.ngram_generator(n=3)\n",
    "ng.dump_ngrams(path = \"../data\",file_name='trigrams')"
   ]
  },
  {
   "cell_type": "code",
   "execution_count": 4,
   "metadata": {},
   "outputs": [
    {
     "name": "stdout",
     "output_type": "stream",
     "text": [
      "Done writting file unigrams\n"
     ]
    }
   ],
   "source": [
    "ng = Ngram()\n",
    "ng.read_data(\"../data/convo.txt\")\n",
    "ng.ngram_generator(n=1)\n",
    "ng.dump_ngrams(path = \"../data\",file_name='unigrams')"
   ]
  },
  {
   "cell_type": "code",
   "execution_count": null,
   "metadata": {},
   "outputs": [],
   "source": []
  },
  {
   "cell_type": "code",
   "execution_count": null,
   "metadata": {},
   "outputs": [],
   "source": []
  }
 ],
 "metadata": {
  "kernelspec": {
   "display_name": "Python 3.7.4 64-bit ('base': conda)",
   "language": "python",
   "name": "python37464bitbasecondae1ffa1412f074f08abd627806a6fc789"
  },
  "language_info": {
   "codemirror_mode": {
    "name": "ipython",
    "version": 3
   },
   "file_extension": ".py",
   "mimetype": "text/x-python",
   "name": "python",
   "nbconvert_exporter": "python",
   "pygments_lexer": "ipython3",
   "version": "3.7.4"
  }
 },
 "nbformat": 4,
 "nbformat_minor": 2
}
